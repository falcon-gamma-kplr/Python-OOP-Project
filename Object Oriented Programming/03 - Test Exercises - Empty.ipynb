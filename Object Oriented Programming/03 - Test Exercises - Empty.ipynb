{
 "cells": [
  {
   "cell_type": "markdown",
   "id": "018f51b4",
   "metadata": {},
   "source": [
    "# Test Exercises"
   ]
  },
  {
   "cell_type": "markdown",
   "id": "d77460b0",
   "metadata": {},
   "source": [
    "### Exercise 1\n",
    "\n",
    "Create a `class` for a book called `Book`.\n",
    "\n",
    "The attributes should be.\n",
    "- `title`\n",
    "- `author`\n",
    "- `pages`\n",
    "\n",
    "Try it out."
   ]
  },
  {
   "cell_type": "code",
   "execution_count": 17,
   "id": "f33f470f",
   "metadata": {},
   "outputs": [],
   "source": [
    "class Book:\n",
    "  def __init__(self,title,author,pages):\n",
    "    self.title = title\n",
    "    self.author = author\n",
    "    self.pages = pages\n",
    "\n",
    "  def get_title(self):\n",
    "    return self.title\n",
    "  \n",
    "  def set_title(self,titre):\n",
    "    self.title = titre\n",
    "\n",
    "  def __str__(self):\n",
    "    return f\"{self.title} de {self.author}, {self.pages} pages\"\n",
    "  \n",
    "  def __lt__(self, other):\n",
    "        if self.author != other.author:\n",
    "            return self.author < other.author\n",
    "        if self.title != other.title:\n",
    "            return self.title < other.title\n",
    "        return self.pages < other.pages"
   ]
  },
  {
   "cell_type": "code",
   "execution_count": null,
   "id": "862e0298",
   "metadata": {},
   "outputs": [],
   "source": []
  },
  {
   "cell_type": "code",
   "execution_count": null,
   "id": "3ef86d2e",
   "metadata": {},
   "outputs": [],
   "source": []
  },
  {
   "cell_type": "markdown",
   "id": "9813e500",
   "metadata": {},
   "source": [
    "### Exercise 2\n",
    "\n",
    "Continue with the `Book` class.\n",
    "\n",
    "- Add get and set methods for the title.\n",
    "- Add a `__str__` method for a string representation of the class.\n",
    "\n",
    "Try it out."
   ]
  },
  {
   "cell_type": "code",
   "execution_count": 18,
   "id": "18f7a816",
   "metadata": {},
   "outputs": [],
   "source": [
    "b1 = Book(\"Le rouge et le noir\",\"Stendhal\",4527)"
   ]
  },
  {
   "cell_type": "code",
   "execution_count": 8,
   "id": "02e2bc00",
   "metadata": {},
   "outputs": [
    {
     "name": "stdout",
     "output_type": "stream",
     "text": [
      "Le rouge et le noir de Stendhal, 4527 pages\n"
     ]
    }
   ],
   "source": [
    "print (b1)"
   ]
  },
  {
   "cell_type": "code",
   "execution_count": null,
   "id": "dd0c77e7",
   "metadata": {},
   "outputs": [],
   "source": []
  },
  {
   "cell_type": "markdown",
   "id": "57e274d1",
   "metadata": {},
   "source": [
    "### Exercise 3 (Challenging)\n",
    "\n",
    "Continue with the `Book` class\n",
    "\n",
    "- Add a `__lt__` method that compares to objects.\n",
    "\n",
    "Create a list of books, sort it, and see it works."
   ]
  },
  {
   "cell_type": "code",
   "execution_count": 19,
   "id": "08ceca17",
   "metadata": {},
   "outputs": [],
   "source": [
    "b2 = Book(\"Voyage au centre de la Terre\",\"Jules Verne\",124)"
   ]
  },
  {
   "cell_type": "code",
   "execution_count": 21,
   "id": "c9f80062",
   "metadata": {},
   "outputs": [
    {
     "name": "stdout",
     "output_type": "stream",
     "text": [
      "Le rouge et le noir de Stendhal, 4527 pages\n",
      "Voyage au centre de la Terre de Jules Verne, 124 pages\n"
     ]
    },
    {
     "data": {
      "text/plain": [
       "False"
      ]
     },
     "execution_count": 21,
     "metadata": {},
     "output_type": "execute_result"
    }
   ],
   "source": [
    "print (b1)\n",
    "print (b2)\n",
    "b1 < b2"
   ]
  },
  {
   "cell_type": "code",
   "execution_count": 23,
   "id": "44f29f12",
   "metadata": {},
   "outputs": [],
   "source": [
    "b3 = Book(\"Némo\",\"Jules Verne\",547)"
   ]
  },
  {
   "cell_type": "code",
   "execution_count": 25,
   "id": "08cf335d",
   "metadata": {},
   "outputs": [
    {
     "name": "stdout",
     "output_type": "stream",
     "text": [
      "Némo de Jules Verne, 547 pages\n"
     ]
    }
   ],
   "source": [
    "print (b3)"
   ]
  },
  {
   "cell_type": "code",
   "execution_count": 26,
   "id": "41f4e515",
   "metadata": {},
   "outputs": [
    {
     "name": "stdout",
     "output_type": "stream",
     "text": [
      "Némo de Jules Verne, 547 pages\n",
      "Voyage au centre de la Terre de Jules Verne, 124 pages\n",
      "Le rouge et le noir de Stendhal, 4527 pages\n"
     ]
    }
   ],
   "source": [
    "liste = [b1,b2,b3]\n",
    "liste.sort()\n",
    "for b in liste:\n",
    "    print (b)"
   ]
  }
 ],
 "metadata": {
  "kernelspec": {
   "display_name": "Python 3 (ipykernel)",
   "language": "python",
   "name": "python3"
  },
  "language_info": {
   "codemirror_mode": {
    "name": "ipython",
    "version": 3
   },
   "file_extension": ".py",
   "mimetype": "text/x-python",
   "name": "python",
   "nbconvert_exporter": "python",
   "pygments_lexer": "ipython3",
   "version": "3.10.4"
  }
 },
 "nbformat": 4,
 "nbformat_minor": 5
}
